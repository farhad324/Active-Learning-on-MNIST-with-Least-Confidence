{
 "cells": [
  {
   "cell_type": "code",
   "execution_count": 1,
   "metadata": {},
   "outputs": [],
   "source": [
    "import numpy as np # linear algebra\n",
    "import pandas as pd # data processing, CSV file I/O (e.g. pd.read_csv)\n",
    "from matplotlib import pyplot as plt\n",
    "import os"
   ]
  },
  {
   "cell_type": "code",
   "execution_count": 2,
   "metadata": {},
   "outputs": [],
   "source": [
    "import keras\n",
    "from keras.models import Sequential\n",
    "from keras.layers import Dense, Dropout, Flatten, Conv2D, MaxPooling2D\n",
    "\n",
    "def create_keras_model():\n",
    "    \n",
    "    model = Sequential()\n",
    "    model.add(Conv2D(16, kernel_size=(3, 3), activation='relu', input_shape=(28, 28, 1)))\n",
    "    model.add(Conv2D(64, (3, 3), activation='relu'))\n",
    "    model.add(MaxPooling2D(pool_size=(2, 2)))\n",
    "    model.add(Dropout(0.2))\n",
    "    model.add(Flatten())\n",
    "    model.add(Dense(128, activation='relu'))\n",
    "    model.add(Dropout(0.3))\n",
    "    model.add(Dense(10, activation='softmax'))\n",
    "\n",
    "    model.compile(loss='categorical_crossentropy', optimizer='adadelta', metrics=['accuracy'])\n",
    "\n",
    "    return model"
   ]
  },
  {
   "cell_type": "code",
   "execution_count": 3,
   "metadata": {},
   "outputs": [],
   "source": [
    "from keras.datasets import mnist\n",
    "from sklearn.model_selection import train_test_split\n",
    "(X_train, y_train), (X_test, y_test) = mnist.load_data()\n",
    "X_train = X_train.reshape(60000, 28, 28, 1).astype('float32') / 255\n",
    "X_test = X_test.reshape(10000, 28, 28, 1).astype('float32') / 255\n",
    "y_train = keras.utils.to_categorical(y_train, 10)\n",
    "y_test = keras.utils.to_categorical(y_test, 10)"
   ]
  },
  {
   "cell_type": "code",
   "execution_count": 4,
   "metadata": {},
   "outputs": [
    {
     "name": "stdout",
     "output_type": "stream",
     "text": [
      "Model: \"sequential\"\n",
      "_________________________________________________________________\n",
      " Layer (type)                Output Shape              Param #   \n",
      "=================================================================\n",
      " conv2d (Conv2D)             (None, 26, 26, 16)        160       \n",
      "                                                                 \n",
      " conv2d_1 (Conv2D)           (None, 24, 24, 64)        9280      \n",
      "                                                                 \n",
      " max_pooling2d (MaxPooling2D  (None, 12, 12, 64)       0         \n",
      " )                                                               \n",
      "                                                                 \n",
      " dropout (Dropout)           (None, 12, 12, 64)        0         \n",
      "                                                                 \n",
      " flatten (Flatten)           (None, 9216)              0         \n",
      "                                                                 \n",
      " dense (Dense)               (None, 128)               1179776   \n",
      "                                                                 \n",
      " dropout_1 (Dropout)         (None, 128)               0         \n",
      "                                                                 \n",
      " dense_1 (Dense)             (None, 10)                1290      \n",
      "                                                                 \n",
      "=================================================================\n",
      "Total params: 1,190,506\n",
      "Trainable params: 1,190,506\n",
      "Non-trainable params: 0\n",
      "_________________________________________________________________\n"
     ]
    }
   ],
   "source": [
    "model = create_keras_model()\n",
    "model.summary()"
   ]
  },
  {
   "cell_type": "code",
   "execution_count": 5,
   "metadata": {},
   "outputs": [
    {
     "name": "stdout",
     "output_type": "stream",
     "text": [
      "total training samples: 54000\t training accuracy: 0.6037542223930359\t validation accuracy: 0.8366666436195374\t testing accuracy: 0.7910000085830688\n"
     ]
    }
   ],
   "source": [
    "\n",
    "history = model.fit(x=X_train,y=y_train, epochs=2, validation_split=0.01,verbose=False)\n",
    "_,testing_accuracy = model.evaluate(X_test, y_test,verbose=False)\n",
    "print(\"total training samples: {}\\t training accuracy: {}\\t validation accuracy: {}\\t testing accuracy: {}\".format(int(X_train.shape[0]*0.9),\n",
    "                                                                                                               history.history['accuracy'][-1],\n",
    "                                                                                                               history.history['val_accuracy'][-1],\n",
    "                                                                                                              testing_accuracy))"
   ]
  },
  {
   "cell_type": "code",
   "execution_count": 6,
   "metadata": {},
   "outputs": [],
   "source": [
    "def uncertain_idx(model,x,new_samples):\n",
    "    pred = model.predict(x)\n",
    "    idxs = np.argsort(np.squeeze(pred).var(axis=1))[:new_samples]\n",
    "    return idxs,pred\n",
    "\n",
    "def get_ambigious_labels(model,X_reserve,y_reserve,X_pool,y_pool,new_samples=200):\n",
    "\n",
    "    idx,pred = uncertain_idx(model, X_reserve,new_samples)\n",
    "\n",
    "    X_new_points = X_reserve[idx]\n",
    "    y_new_points = y_reserve[idx]\n",
    "\n",
    "    X_pool = np.concatenate((X_pool,X_new_points),axis=0)\n",
    "    y_pool = np.concatenate((y_pool,y_new_points),axis=0)\n",
    "    \n",
    "    X_reserve = np.delete(X_reserve,idx,axis=0)\n",
    "    y_reserve = np.delete(y_reserve,idx,axis=0)\n",
    "    \n",
    "    return X_reserve,y_reserve,X_pool,y_pool"
   ]
  },
  {
   "cell_type": "code",
   "execution_count": 7,
   "metadata": {},
   "outputs": [],
   "source": [
    "def model_fit(X_pool,y_pool):\n",
    "    model = create_keras_model()\n",
    "    hist = model.fit(X_pool,y_pool,epochs=2,validation_split=0.01,verbose=False)\n",
    "    return model,hist "
   ]
  },
  {
   "cell_type": "code",
   "execution_count": 8,
   "metadata": {},
   "outputs": [
    {
     "name": "stdout",
     "output_type": "stream",
     "text": [
      "iteration: 0\t total training samples: 36000\t training accuracy: 0.485\t validation accuracy: 0.703\t testing accuracy: 0.712\n",
      "750/750 [==============================] - 1s 986us/step\n",
      "749/749 [==============================] - 1s 992us/step\n",
      "747/747 [==============================] - 1s 987us/step\n",
      "746/746 [==============================] - 1s 983us/step\n",
      "744/744 [==============================] - 1s 986us/step\n",
      "iteration: 5\t total training samples: 36250\t training accuracy: 0.476\t validation accuracy: 0.46\t testing accuracy: 0.72\n",
      "743/743 [==============================] - 1s 968us/step\n",
      "741/741 [==============================] - 1s 974us/step\n",
      "740/740 [==============================] - 1s 978us/step\n",
      "738/738 [==============================] - 1s 970us/step\n",
      "736/736 [==============================] - 1s 948us/step\n",
      "735/735 [==============================] - 1s 950us/step\n",
      "733/733 [==============================] - 1s 999us/step\n",
      "732/732 [==============================] - 1s 1ms/step\n",
      "730/730 [==============================] - 1s 987us/step\n",
      "729/729 [==============================] - 1s 944us/step\n",
      "727/727 [==============================] - 1s 946us/step\n",
      "725/725 [==============================] - 1s 954us/step\n",
      "724/724 [==============================] - 1s 947us/step\n",
      "iteration: 18\t total training samples: 36900\t training accuracy: 0.498\t validation accuracy: 0.439\t testing accuracy: 0.727\n",
      "722/722 [==============================] - 1s 993us/step\n",
      "721/721 [==============================] - 1s 952us/step\n",
      "719/719 [==============================] - 1s 952us/step\n",
      "718/718 [==============================] - 1s 945us/step\n",
      "716/716 [==============================] - 1s 978us/step\n",
      "715/715 [==============================] - 1s 1ms/step\n",
      "713/713 [==============================] - 1s 936us/step\n",
      "711/711 [==============================] - 1s 948us/step\n",
      "710/710 [==============================] - 1s 941us/step\n",
      "708/708 [==============================] - 1s 941us/step\n",
      "707/707 [==============================] - 1s 961us/step\n",
      "705/705 [==============================] - 1s 935us/step\n",
      "704/704 [==============================] - 1s 1ms/step\n",
      "702/702 [==============================] - 1s 992us/step\n",
      "700/700 [==============================] - 1s 992us/step\n",
      "699/699 [==============================] - 1s 953us/step\n",
      "697/697 [==============================] - 1s 935us/step\n",
      "696/696 [==============================] - 1s 956us/step\n",
      "694/694 [==============================] - 1s 966us/step\n",
      "693/693 [==============================] - 1s 985us/step\n",
      "691/691 [==============================] - 1s 1ms/step\n",
      "690/690 [==============================] - 1s 996us/step\n",
      "688/688 [==============================] - 1s 936us/step\n",
      "686/686 [==============================] - 1s 961us/step\n",
      "685/685 [==============================] - 1s 945us/step\n",
      "683/683 [==============================] - 1s 969us/step\n",
      "682/682 [==============================] - 1s 920us/step\n",
      "iteration: 45\t total training samples: 38250\t training accuracy: 0.486\t validation accuracy: 0.551\t testing accuracy: 0.728\n",
      "680/680 [==============================] - 1s 943us/step\n",
      "679/679 [==============================] - 1s 966us/step\n",
      "677/677 [==============================] - 1s 961us/step\n",
      "iteration: 48\t total training samples: 38400\t training accuracy: 0.474\t validation accuracy: 0.513\t testing accuracy: 0.739\n",
      "675/675 [==============================] - 1s 1ms/step\n",
      "674/674 [==============================] - 1s 934us/step\n",
      "672/672 [==============================] - 1s 948us/step\n",
      "671/671 [==============================] - 1s 927us/step\n",
      "669/669 [==============================] - 1s 917us/step\n",
      "668/668 [==============================] - 1s 934us/step\n",
      "666/666 [==============================] - 1s 921us/step\n",
      "665/665 [==============================] - 1s 951us/step\n",
      "663/663 [==============================] - 1s 1ms/step\n",
      "661/661 [==============================] - 1s 938us/step\n",
      "660/660 [==============================] - 1s 937us/step\n",
      "658/658 [==============================] - 1s 976us/step\n",
      "657/657 [==============================] - 1s 943us/step\n",
      "655/655 [==============================] - 1s 998us/step\n",
      "654/654 [==============================] - 1s 977us/step\n",
      "652/652 [==============================] - 1s 984us/step\n",
      "650/650 [==============================] - 1s 945us/step\n",
      "649/649 [==============================] - 1s 995us/step\n",
      "647/647 [==============================] - 1s 939us/step\n",
      "646/646 [==============================] - 1s 982us/step\n",
      "644/644 [==============================] - 1s 930us/step\n",
      "643/643 [==============================] - 1s 955us/step\n",
      "641/641 [==============================] - 1s 931us/step\n",
      "640/640 [==============================] - 1s 932us/step\n",
      "638/638 [==============================] - 1s 949us/step\n",
      "636/636 [==============================] - 1s 941us/step\n",
      "635/635 [==============================] - 1s 947us/step\n",
      "633/633 [==============================] - 1s 977us/step\n",
      "iteration: 76\t total training samples: 39800\t training accuracy: 0.564\t validation accuracy: 0.611\t testing accuracy: 0.769\n",
      "632/632 [==============================] - 1s 948us/step\n",
      "630/630 [==============================] - 1s 965us/step\n",
      "629/629 [==============================] - 1s 958us/step\n",
      "627/627 [==============================] - 1s 974us/step\n",
      "625/625 [==============================] - 1s 966us/step\n",
      "624/624 [==============================] - 1s 965us/step\n",
      "622/622 [==============================] - 1s 981us/step\n",
      "621/621 [==============================] - 1s 1ms/step\n",
      "619/619 [==============================] - 1s 996us/step\n",
      "618/618 [==============================] - 1s 960us/step\n",
      "616/616 [==============================] - 1s 939us/step\n",
      "615/615 [==============================] - 1s 957us/step\n",
      "613/613 [==============================] - 1s 949us/step\n",
      "611/611 [==============================] - 1s 945us/step\n",
      "610/610 [==============================] - 1s 971us/step\n",
      "608/608 [==============================] - 1s 961us/step\n",
      "607/607 [==============================] - 1s 967us/step\n",
      "605/605 [==============================] - 1s 1ms/step\n",
      "604/604 [==============================] - 1s 968us/step\n",
      "602/602 [==============================] - 1s 963us/step\n",
      "600/600 [==============================] - 1s 947us/step\n",
      "599/599 [==============================] - 1s 955us/step\n",
      "597/597 [==============================] - 1s 982us/step\n",
      "596/596 [==============================] - 1s 1ms/step\n"
     ]
    }
   ],
   "source": [
    "X_pool, X_reserve, y_pool, y_reserve = train_test_split(X_train, y_train, test_size = 0.4)\n",
    "test_max = 0\n",
    "\n",
    "for i in range(100):\n",
    "    \n",
    "    model, hist = model_fit(X_pool, y_pool)\n",
    "    _,testing_accuracy = model.evaluate(X_test, y_test,verbose=False)\n",
    "    \n",
    "    if testing_accuracy > test_max:\n",
    "        print(\"iteration: {}\\t total training samples: {}\\t training accuracy: {}\\t validation accuracy: {}\\t testing accuracy: {}\".format(i, y_pool.shape[0],\n",
    "                                                                                                                                       round(hist.history[\"accuracy\"][-1],3),\n",
    "                                                                                                                                       round(hist.history['val_accuracy'][-1],3),\n",
    "                                                                                                                                        round(testing_accuracy,3)))\n",
    "        test_max = testing_accuracy\n",
    "        \n",
    "    X_reserve,y_reserve,X_pool,y_pool = get_ambigious_labels(model, X_reserve, y_reserve, X_pool, y_pool,new_samples=50)"
   ]
  },
  {
   "cell_type": "code",
   "execution_count": null,
   "metadata": {},
   "outputs": [],
   "source": []
  }
 ],
 "metadata": {
  "kernelspec": {
   "display_name": "gpu_tf",
   "language": "python",
   "name": "gpu_tf"
  },
  "language_info": {
   "codemirror_mode": {
    "name": "ipython",
    "version": 3
   },
   "file_extension": ".py",
   "mimetype": "text/x-python",
   "name": "python",
   "nbconvert_exporter": "python",
   "pygments_lexer": "ipython3",
   "version": "3.8.11"
  }
 },
 "nbformat": 4,
 "nbformat_minor": 2
}
